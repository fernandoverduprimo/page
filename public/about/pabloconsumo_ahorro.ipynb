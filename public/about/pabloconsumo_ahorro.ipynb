{
 "cells": [
  {
   "cell_type": "markdown",
   "metadata": {},
   "source": [
    "# INFORME ECONÓMICO DEL CONSUMO Y AHORRO DE LOS ESPAÑOLES"
   ]
  },
  {
   "cell_type": "markdown",
   "metadata": {},
   "source": [
    "## En este informe económico analizamos el gasto de los españoles en los diferentes productos. Los datos se extraen de la [página web datos.gov.es](datos.gov.es) .<br><br>"
   ]
  },
  {
   "cell_type": "code",
   "execution_count": 10,
   "metadata": {},
   "outputs": [],
   "source": [
    "library(ggplot2)"
   ]
  },
  {
   "cell_type": "code",
   "execution_count": 11,
   "metadata": {},
   "outputs": [],
   "source": [
    "library(readr)"
   ]
  },
  {
   "cell_type": "code",
   "execution_count": 12,
   "metadata": {
    "scrolled": true
   },
   "outputs": [
    {
     "name": "stderr",
     "output_type": "stream",
     "text": [
      "Warning message:\n",
      "“package ‘dplyr’ was built under R version 3.6.2”\n",
      "Attaching package: ‘dplyr’\n",
      "\n",
      "The following objects are masked from ‘package:stats’:\n",
      "\n",
      "    filter, lag\n",
      "\n",
      "The following objects are masked from ‘package:base’:\n",
      "\n",
      "    intersect, setdiff, setequal, union\n",
      "\n",
      "Warning message:\n",
      "“package ‘tidyr’ was built under R version 3.6.2”"
     ]
    }
   ],
   "source": [
    "library(dplyr)\n",
    "library(tidyr)"
   ]
  },
  {
   "cell_type": "code",
   "execution_count": 13,
   "metadata": {},
   "outputs": [
    {
     "name": "stderr",
     "output_type": "stream",
     "text": [
      "Selecting by Renta.media.por.hogar..con.alquiler.imputado.\n"
     ]
    }
   ],
   "source": [
    "rmedia<-read.csv(file='renta_media_de_los_hogare.csv',sep=';') %>% top_n(11)\n",
    "rmedia <- select(rmedia,-Periodo)"
   ]
  },
  {
   "cell_type": "code",
   "execution_count": 14,
   "metadata": {},
   "outputs": [],
   "source": [
    "options(repr.plot.width=5, repr.plot.height=3)"
   ]
  },
  {
   "cell_type": "code",
   "execution_count": 15,
   "metadata": {},
   "outputs": [],
   "source": [
    "rmedia<- rename(rmedia, renta_media='Renta.media.por.hogar')\n",
    "rmedia<- rename(rmedia, renta_media_alquiler='Renta.media.por.hogar..con.alquiler.imputado.')"
   ]
  },
  {
   "cell_type": "code",
   "execution_count": 16,
   "metadata": {},
   "outputs": [
    {
     "data": {
      "text/html": [
       "<table>\n",
       "<caption>A data.frame: 11 × 3</caption>\n",
       "<thead>\n",
       "\t<tr><th scope=col>Año</th><th scope=col>renta_media</th><th scope=col>renta_media_alquiler</th></tr>\n",
       "\t<tr><th scope=col>&lt;fct&gt;</th><th scope=col>&lt;dbl&gt;</th><th scope=col>&lt;dbl&gt;</th></tr>\n",
       "</thead>\n",
       "<tbody>\n",
       "\t<tr><td>2008</td><td>28.787</td><td>32.807</td></tr>\n",
       "\t<tr><td>2009</td><td>30.045</td><td>33.953</td></tr>\n",
       "\t<tr><td>2010</td><td>29.634</td><td>33.965</td></tr>\n",
       "\t<tr><td>2011</td><td>28.206</td><td>32.429</td></tr>\n",
       "\t<tr><td>2012</td><td>27.747</td><td>31.686</td></tr>\n",
       "\t<tr><td>2013</td><td>26.775</td><td>30.501</td></tr>\n",
       "\t<tr><td>2014</td><td>26.154</td><td>30.257</td></tr>\n",
       "\t<tr><td>2015</td><td>26.092</td><td>30.031</td></tr>\n",
       "\t<tr><td>2016</td><td>26.730</td><td>30.822</td></tr>\n",
       "\t<tr><td>2017</td><td>27.558</td><td>31.956</td></tr>\n",
       "\t<tr><td>2018</td><td>28.417</td><td>32.929</td></tr>\n",
       "</tbody>\n",
       "</table>\n"
      ],
      "text/latex": [
       "A data.frame: 11 × 3\n",
       "\\begin{tabular}{lll}\n",
       " Año & renta\\_media & renta\\_media\\_alquiler\\\\\n",
       " <fct> & <dbl> & <dbl>\\\\\n",
       "\\hline\n",
       "\t 2008 & 28.787 & 32.807\\\\\n",
       "\t 2009 & 30.045 & 33.953\\\\\n",
       "\t 2010 & 29.634 & 33.965\\\\\n",
       "\t 2011 & 28.206 & 32.429\\\\\n",
       "\t 2012 & 27.747 & 31.686\\\\\n",
       "\t 2013 & 26.775 & 30.501\\\\\n",
       "\t 2014 & 26.154 & 30.257\\\\\n",
       "\t 2015 & 26.092 & 30.031\\\\\n",
       "\t 2016 & 26.730 & 30.822\\\\\n",
       "\t 2017 & 27.558 & 31.956\\\\\n",
       "\t 2018 & 28.417 & 32.929\\\\\n",
       "\\end{tabular}\n"
      ],
      "text/markdown": [
       "\n",
       "A data.frame: 11 × 3\n",
       "\n",
       "| Año &lt;fct&gt; | renta_media &lt;dbl&gt; | renta_media_alquiler &lt;dbl&gt; |\n",
       "|---|---|---|\n",
       "| 2008 | 28.787 | 32.807 |\n",
       "| 2009 | 30.045 | 33.953 |\n",
       "| 2010 | 29.634 | 33.965 |\n",
       "| 2011 | 28.206 | 32.429 |\n",
       "| 2012 | 27.747 | 31.686 |\n",
       "| 2013 | 26.775 | 30.501 |\n",
       "| 2014 | 26.154 | 30.257 |\n",
       "| 2015 | 26.092 | 30.031 |\n",
       "| 2016 | 26.730 | 30.822 |\n",
       "| 2017 | 27.558 | 31.956 |\n",
       "| 2018 | 28.417 | 32.929 |\n",
       "\n"
      ],
      "text/plain": [
       "   Año  renta_media renta_media_alquiler\n",
       "1  2008 28.787      32.807              \n",
       "2  2009 30.045      33.953              \n",
       "3  2010 29.634      33.965              \n",
       "4  2011 28.206      32.429              \n",
       "5  2012 27.747      31.686              \n",
       "6  2013 26.775      30.501              \n",
       "7  2014 26.154      30.257              \n",
       "8  2015 26.092      30.031              \n",
       "9  2016 26.730      30.822              \n",
       "10 2017 27.558      31.956              \n",
       "11 2018 28.417      32.929              "
      ]
     },
     "metadata": {},
     "output_type": "display_data"
    }
   ],
   "source": [
    "rmedia"
   ]
  },
  {
   "cell_type": "code",
   "execution_count": 17,
   "metadata": {
    "scrolled": false
   },
   "outputs": [
    {
     "data": {
      "text/html": [
       "<table>\n",
       "<caption>A data.frame: 22 × 3</caption>\n",
       "<thead>\n",
       "\t<tr><th scope=col>Año</th><th scope=col>Stat</th><th scope=col>Value</th></tr>\n",
       "\t<tr><th scope=col>&lt;fct&gt;</th><th scope=col>&lt;chr&gt;</th><th scope=col>&lt;dbl&gt;</th></tr>\n",
       "</thead>\n",
       "<tbody>\n",
       "\t<tr><td>2008</td><td>renta_media         </td><td>28.787</td></tr>\n",
       "\t<tr><td>2009</td><td>renta_media         </td><td>30.045</td></tr>\n",
       "\t<tr><td>2010</td><td>renta_media         </td><td>29.634</td></tr>\n",
       "\t<tr><td>2011</td><td>renta_media         </td><td>28.206</td></tr>\n",
       "\t<tr><td>2012</td><td>renta_media         </td><td>27.747</td></tr>\n",
       "\t<tr><td>2013</td><td>renta_media         </td><td>26.775</td></tr>\n",
       "\t<tr><td>2014</td><td>renta_media         </td><td>26.154</td></tr>\n",
       "\t<tr><td>2015</td><td>renta_media         </td><td>26.092</td></tr>\n",
       "\t<tr><td>2016</td><td>renta_media         </td><td>26.730</td></tr>\n",
       "\t<tr><td>2017</td><td>renta_media         </td><td>27.558</td></tr>\n",
       "\t<tr><td>2018</td><td>renta_media         </td><td>28.417</td></tr>\n",
       "\t<tr><td>2008</td><td>renta_media_alquiler</td><td>32.807</td></tr>\n",
       "\t<tr><td>2009</td><td>renta_media_alquiler</td><td>33.953</td></tr>\n",
       "\t<tr><td>2010</td><td>renta_media_alquiler</td><td>33.965</td></tr>\n",
       "\t<tr><td>2011</td><td>renta_media_alquiler</td><td>32.429</td></tr>\n",
       "\t<tr><td>2012</td><td>renta_media_alquiler</td><td>31.686</td></tr>\n",
       "\t<tr><td>2013</td><td>renta_media_alquiler</td><td>30.501</td></tr>\n",
       "\t<tr><td>2014</td><td>renta_media_alquiler</td><td>30.257</td></tr>\n",
       "\t<tr><td>2015</td><td>renta_media_alquiler</td><td>30.031</td></tr>\n",
       "\t<tr><td>2016</td><td>renta_media_alquiler</td><td>30.822</td></tr>\n",
       "\t<tr><td>2017</td><td>renta_media_alquiler</td><td>31.956</td></tr>\n",
       "\t<tr><td>2018</td><td>renta_media_alquiler</td><td>32.929</td></tr>\n",
       "</tbody>\n",
       "</table>\n"
      ],
      "text/latex": [
       "A data.frame: 22 × 3\n",
       "\\begin{tabular}{lll}\n",
       " Año & Stat & Value\\\\\n",
       " <fct> & <chr> & <dbl>\\\\\n",
       "\\hline\n",
       "\t 2008 & renta\\_media          & 28.787\\\\\n",
       "\t 2009 & renta\\_media          & 30.045\\\\\n",
       "\t 2010 & renta\\_media          & 29.634\\\\\n",
       "\t 2011 & renta\\_media          & 28.206\\\\\n",
       "\t 2012 & renta\\_media          & 27.747\\\\\n",
       "\t 2013 & renta\\_media          & 26.775\\\\\n",
       "\t 2014 & renta\\_media          & 26.154\\\\\n",
       "\t 2015 & renta\\_media          & 26.092\\\\\n",
       "\t 2016 & renta\\_media          & 26.730\\\\\n",
       "\t 2017 & renta\\_media          & 27.558\\\\\n",
       "\t 2018 & renta\\_media          & 28.417\\\\\n",
       "\t 2008 & renta\\_media\\_alquiler & 32.807\\\\\n",
       "\t 2009 & renta\\_media\\_alquiler & 33.953\\\\\n",
       "\t 2010 & renta\\_media\\_alquiler & 33.965\\\\\n",
       "\t 2011 & renta\\_media\\_alquiler & 32.429\\\\\n",
       "\t 2012 & renta\\_media\\_alquiler & 31.686\\\\\n",
       "\t 2013 & renta\\_media\\_alquiler & 30.501\\\\\n",
       "\t 2014 & renta\\_media\\_alquiler & 30.257\\\\\n",
       "\t 2015 & renta\\_media\\_alquiler & 30.031\\\\\n",
       "\t 2016 & renta\\_media\\_alquiler & 30.822\\\\\n",
       "\t 2017 & renta\\_media\\_alquiler & 31.956\\\\\n",
       "\t 2018 & renta\\_media\\_alquiler & 32.929\\\\\n",
       "\\end{tabular}\n"
      ],
      "text/markdown": [
       "\n",
       "A data.frame: 22 × 3\n",
       "\n",
       "| Año &lt;fct&gt; | Stat &lt;chr&gt; | Value &lt;dbl&gt; |\n",
       "|---|---|---|\n",
       "| 2008 | renta_media          | 28.787 |\n",
       "| 2009 | renta_media          | 30.045 |\n",
       "| 2010 | renta_media          | 29.634 |\n",
       "| 2011 | renta_media          | 28.206 |\n",
       "| 2012 | renta_media          | 27.747 |\n",
       "| 2013 | renta_media          | 26.775 |\n",
       "| 2014 | renta_media          | 26.154 |\n",
       "| 2015 | renta_media          | 26.092 |\n",
       "| 2016 | renta_media          | 26.730 |\n",
       "| 2017 | renta_media          | 27.558 |\n",
       "| 2018 | renta_media          | 28.417 |\n",
       "| 2008 | renta_media_alquiler | 32.807 |\n",
       "| 2009 | renta_media_alquiler | 33.953 |\n",
       "| 2010 | renta_media_alquiler | 33.965 |\n",
       "| 2011 | renta_media_alquiler | 32.429 |\n",
       "| 2012 | renta_media_alquiler | 31.686 |\n",
       "| 2013 | renta_media_alquiler | 30.501 |\n",
       "| 2014 | renta_media_alquiler | 30.257 |\n",
       "| 2015 | renta_media_alquiler | 30.031 |\n",
       "| 2016 | renta_media_alquiler | 30.822 |\n",
       "| 2017 | renta_media_alquiler | 31.956 |\n",
       "| 2018 | renta_media_alquiler | 32.929 |\n",
       "\n"
      ],
      "text/plain": [
       "   Año  Stat                 Value \n",
       "1  2008 renta_media          28.787\n",
       "2  2009 renta_media          30.045\n",
       "3  2010 renta_media          29.634\n",
       "4  2011 renta_media          28.206\n",
       "5  2012 renta_media          27.747\n",
       "6  2013 renta_media          26.775\n",
       "7  2014 renta_media          26.154\n",
       "8  2015 renta_media          26.092\n",
       "9  2016 renta_media          26.730\n",
       "10 2017 renta_media          27.558\n",
       "11 2018 renta_media          28.417\n",
       "12 2008 renta_media_alquiler 32.807\n",
       "13 2009 renta_media_alquiler 33.953\n",
       "14 2010 renta_media_alquiler 33.965\n",
       "15 2011 renta_media_alquiler 32.429\n",
       "16 2012 renta_media_alquiler 31.686\n",
       "17 2013 renta_media_alquiler 30.501\n",
       "18 2014 renta_media_alquiler 30.257\n",
       "19 2015 renta_media_alquiler 30.031\n",
       "20 2016 renta_media_alquiler 30.822\n",
       "21 2017 renta_media_alquiler 31.956\n",
       "22 2018 renta_media_alquiler 32.929"
      ]
     },
     "metadata": {},
     "output_type": "display_data"
    }
   ],
   "source": [
    "dat<- rmedia %>% gather(\"Stat\",\"Value\", -Año)\n",
    "dat"
   ]
  },
  {
   "cell_type": "code",
   "execution_count": 18,
   "metadata": {},
   "outputs": [
    {
     "data": {
      "image/png": "[encoded data removed]",
      "text/plain": [
       "plot without title"
      ]
     },
     "metadata": {},
     "output_type": "display_data"
    }
   ],
   "source": [
    "p1<- ggplot(data=dat, aes(x=Año,y=Value , fill=Stat)) \n",
    "p1<-p1 + geom_bar(stat=\"identity\",position=position_dodge(width=.85),width=.7)\n",
    "p1<-p1 + theme_classic() + labs(x = NULL, y=\"miles €\",title=\"Renta media de los hogares españoles\") \n",
    "p1<- p1 + coord_cartesian(ylim=c(25,34)) \n",
    "p1<- p1 + theme(legend.position=\"bottom\",legend.title=element_blank())\n",
    "p1"
   ]
  },
  {
   "cell_type": "markdown",
   "metadata": {},
   "source": [
    "# Renta media de los españoles # "
   ]
  },
  {
   "cell_type": "markdown",
   "metadata": {},
   "source": [
    "## La renta bruta disponible de los hogares, estas instituciones obtuvieron una renta disponible total de 218.205 millones de euros un 5,76% en tasa interanual ##"
   ]
  },
  {
   "cell_type": "code",
   "execution_count": 19,
   "metadata": {},
   "outputs": [
    {
     "name": "stderr",
     "output_type": "stream",
     "text": [
      "Selecting by Gasto.en.consumo.final..en..millones.de.euros.\n"
     ]
    }
   ],
   "source": [
    "consumo<-read.csv(file='evolucion_del_gasto_en_consumo.csv',sep=';') %>% top_n(11)"
   ]
  },
  {
   "cell_type": "code",
   "execution_count": 20,
   "metadata": {},
   "outputs": [
    {
     "data": {
      "text/html": [
       "<table>\n",
       "<caption>A data.frame: 11 × 3</caption>\n",
       "<thead>\n",
       "\t<tr><th scope=col>Año</th><th scope=col>Periodo</th><th scope=col>Gasto.en.consumo.final..en..millones.de.euros.</th></tr>\n",
       "\t<tr><th scope=col>&lt;fct&gt;</th><th scope=col>&lt;fct&gt;</th><th scope=col>&lt;dbl&gt;</th></tr>\n",
       "</thead>\n",
       "<tbody>\n",
       "\t<tr><td>2007</td><td>Trimestre 2</td><td>152.690</td></tr>\n",
       "\t<tr><td>2008</td><td>Trimestre 2</td><td>159.240</td></tr>\n",
       "\t<tr><td>2010</td><td>Trimestre 2</td><td>154.310</td></tr>\n",
       "\t<tr><td>2011</td><td>Trimestre 2</td><td>154.110</td></tr>\n",
       "\t<tr><td>2012</td><td>Trimestre 2</td><td>152.203</td></tr>\n",
       "\t<tr><td>2014</td><td>Trimestre 2</td><td>151.400</td></tr>\n",
       "\t<tr><td>2015</td><td>Trimestre 2</td><td>155.541</td></tr>\n",
       "\t<tr><td>2016</td><td>Trimestre 2</td><td>159.397</td></tr>\n",
       "\t<tr><td>2017</td><td>Trimestre 2</td><td>167.121</td></tr>\n",
       "\t<tr><td>2018</td><td>Trimestre 2</td><td>172.311</td></tr>\n",
       "\t<tr><td>2019</td><td>Trimestre 2</td><td>175.935</td></tr>\n",
       "</tbody>\n",
       "</table>\n"
      ],
      "text/latex": [
       "A data.frame: 11 × 3\n",
       "\\begin{tabular}{lll}\n",
       " Año & Periodo & Gasto.en.consumo.final..en..millones.de.euros.\\\\\n",
       " <fct> & <fct> & <dbl>\\\\\n",
       "\\hline\n",
       "\t 2007 & Trimestre 2 & 152.690\\\\\n",
       "\t 2008 & Trimestre 2 & 159.240\\\\\n",
       "\t 2010 & Trimestre 2 & 154.310\\\\\n",
       "\t 2011 & Trimestre 2 & 154.110\\\\\n",
       "\t 2012 & Trimestre 2 & 152.203\\\\\n",
       "\t 2014 & Trimestre 2 & 151.400\\\\\n",
       "\t 2015 & Trimestre 2 & 155.541\\\\\n",
       "\t 2016 & Trimestre 2 & 159.397\\\\\n",
       "\t 2017 & Trimestre 2 & 167.121\\\\\n",
       "\t 2018 & Trimestre 2 & 172.311\\\\\n",
       "\t 2019 & Trimestre 2 & 175.935\\\\\n",
       "\\end{tabular}\n"
      ],
      "text/markdown": [
       "\n",
       "A data.frame: 11 × 3\n",
       "\n",
       "| Año &lt;fct&gt; | Periodo &lt;fct&gt; | Gasto.en.consumo.final..en..millones.de.euros. &lt;dbl&gt; |\n",
       "|---|---|---|\n",
       "| 2007 | Trimestre 2 | 152.690 |\n",
       "| 2008 | Trimestre 2 | 159.240 |\n",
       "| 2010 | Trimestre 2 | 154.310 |\n",
       "| 2011 | Trimestre 2 | 154.110 |\n",
       "| 2012 | Trimestre 2 | 152.203 |\n",
       "| 2014 | Trimestre 2 | 151.400 |\n",
       "| 2015 | Trimestre 2 | 155.541 |\n",
       "| 2016 | Trimestre 2 | 159.397 |\n",
       "| 2017 | Trimestre 2 | 167.121 |\n",
       "| 2018 | Trimestre 2 | 172.311 |\n",
       "| 2019 | Trimestre 2 | 175.935 |\n",
       "\n"
      ],
      "text/plain": [
       "   Año  Periodo     Gasto.en.consumo.final..en..millones.de.euros.\n",
       "1  2007 Trimestre 2 152.690                                       \n",
       "2  2008 Trimestre 2 159.240                                       \n",
       "3  2010 Trimestre 2 154.310                                       \n",
       "4  2011 Trimestre 2 154.110                                       \n",
       "5  2012 Trimestre 2 152.203                                       \n",
       "6  2014 Trimestre 2 151.400                                       \n",
       "7  2015 Trimestre 2 155.541                                       \n",
       "8  2016 Trimestre 2 159.397                                       \n",
       "9  2017 Trimestre 2 167.121                                       \n",
       "10 2018 Trimestre 2 172.311                                       \n",
       "11 2019 Trimestre 2 175.935                                       "
      ]
     },
     "metadata": {},
     "output_type": "display_data"
    }
   ],
   "source": [
    "consumo"
   ]
  },
  {
   "cell_type": "code",
   "execution_count": 21,
   "metadata": {},
   "outputs": [],
   "source": [
    "consumo<- rename(consumo, gasto_consumo='Gasto.en.consumo.final..en..millones.de.euros.')"
   ]
  },
  {
   "cell_type": "code",
   "execution_count": 22,
   "metadata": {},
   "outputs": [
    {
     "data": {
      "text/html": [
       "<table>\n",
       "<caption>A data.frame: 11 × 3</caption>\n",
       "<thead>\n",
       "\t<tr><th scope=col>Año</th><th scope=col>Periodo</th><th scope=col>gasto_consumo</th></tr>\n",
       "\t<tr><th scope=col>&lt;fct&gt;</th><th scope=col>&lt;fct&gt;</th><th scope=col>&lt;dbl&gt;</th></tr>\n",
       "</thead>\n",
       "<tbody>\n",
       "\t<tr><td>2007</td><td>Trimestre 2</td><td>152.690</td></tr>\n",
       "\t<tr><td>2008</td><td>Trimestre 2</td><td>159.240</td></tr>\n",
       "\t<tr><td>2010</td><td>Trimestre 2</td><td>154.310</td></tr>\n",
       "\t<tr><td>2011</td><td>Trimestre 2</td><td>154.110</td></tr>\n",
       "\t<tr><td>2012</td><td>Trimestre 2</td><td>152.203</td></tr>\n",
       "\t<tr><td>2014</td><td>Trimestre 2</td><td>151.400</td></tr>\n",
       "\t<tr><td>2015</td><td>Trimestre 2</td><td>155.541</td></tr>\n",
       "\t<tr><td>2016</td><td>Trimestre 2</td><td>159.397</td></tr>\n",
       "\t<tr><td>2017</td><td>Trimestre 2</td><td>167.121</td></tr>\n",
       "\t<tr><td>2018</td><td>Trimestre 2</td><td>172.311</td></tr>\n",
       "\t<tr><td>2019</td><td>Trimestre 2</td><td>175.935</td></tr>\n",
       "</tbody>\n",
       "</table>\n"
      ],
      "text/latex": [
       "A data.frame: 11 × 3\n",
       "\\begin{tabular}{lll}\n",
       " Año & Periodo & gasto\\_consumo\\\\\n",
       " <fct> & <fct> & <dbl>\\\\\n",
       "\\hline\n",
       "\t 2007 & Trimestre 2 & 152.690\\\\\n",
       "\t 2008 & Trimestre 2 & 159.240\\\\\n",
       "\t 2010 & Trimestre 2 & 154.310\\\\\n",
       "\t 2011 & Trimestre 2 & 154.110\\\\\n",
       "\t 2012 & Trimestre 2 & 152.203\\\\\n",
       "\t 2014 & Trimestre 2 & 151.400\\\\\n",
       "\t 2015 & Trimestre 2 & 155.541\\\\\n",
       "\t 2016 & Trimestre 2 & 159.397\\\\\n",
       "\t 2017 & Trimestre 2 & 167.121\\\\\n",
       "\t 2018 & Trimestre 2 & 172.311\\\\\n",
       "\t 2019 & Trimestre 2 & 175.935\\\\\n",
       "\\end{tabular}\n"
      ],
      "text/markdown": [
       "\n",
       "A data.frame: 11 × 3\n",
       "\n",
       "| Año &lt;fct&gt; | Periodo &lt;fct&gt; | gasto_consumo &lt;dbl&gt; |\n",
       "|---|---|---|\n",
       "| 2007 | Trimestre 2 | 152.690 |\n",
       "| 2008 | Trimestre 2 | 159.240 |\n",
       "| 2010 | Trimestre 2 | 154.310 |\n",
       "| 2011 | Trimestre 2 | 154.110 |\n",
       "| 2012 | Trimestre 2 | 152.203 |\n",
       "| 2014 | Trimestre 2 | 151.400 |\n",
       "| 2015 | Trimestre 2 | 155.541 |\n",
       "| 2016 | Trimestre 2 | 159.397 |\n",
       "| 2017 | Trimestre 2 | 167.121 |\n",
       "| 2018 | Trimestre 2 | 172.311 |\n",
       "| 2019 | Trimestre 2 | 175.935 |\n",
       "\n"
      ],
      "text/plain": [
       "   Año  Periodo     gasto_consumo\n",
       "1  2007 Trimestre 2 152.690      \n",
       "2  2008 Trimestre 2 159.240      \n",
       "3  2010 Trimestre 2 154.310      \n",
       "4  2011 Trimestre 2 154.110      \n",
       "5  2012 Trimestre 2 152.203      \n",
       "6  2014 Trimestre 2 151.400      \n",
       "7  2015 Trimestre 2 155.541      \n",
       "8  2016 Trimestre 2 159.397      \n",
       "9  2017 Trimestre 2 167.121      \n",
       "10 2018 Trimestre 2 172.311      \n",
       "11 2019 Trimestre 2 175.935      "
      ]
     },
     "metadata": {},
     "output_type": "display_data"
    }
   ],
   "source": [
    "consumo"
   ]
  },
  {
   "cell_type": "code",
   "execution_count": 23,
   "metadata": {
    "scrolled": true
   },
   "outputs": [
    {
     "data": {
      "image/png": "[encoded data removed]",
      "text/plain": [
       "plot without title"
      ]
     },
     "metadata": {},
     "output_type": "display_data"
    }
   ],
   "source": [
    "p2<- ggplot(data=consumo, aes(x=Año,y=gasto_consumo )) + geom_bar(stat=\"identity\",color=\"blue\", fill=rgb(0.1,0.4,0.5,0.7),position=position_dodge(width=.85),width=.6 )\n",
    "p2<-p2 + theme_classic() + labs(x = NULL, y=\"miles de millones €\",title=\"Consumo en gasto final de los españoles\") \n",
    "p2 <- p2 + coord_cartesian(ylim=c(50,180)) \n",
    "p2<- p2 + theme(legend.position=\"bottom\",legend.title=element_blank())\n",
    "p2"
   ]
  },
  {
   "cell_type": "markdown",
   "metadata": {},
   "source": [
    "## El gasto en consumo final de los hogares se situó en 175.935 millones de euros un 2,1% más, de modo que su ahorro fue positivo ## "
   ]
  },
  {
   "cell_type": "code",
   "execution_count": 24,
   "metadata": {},
   "outputs": [],
   "source": [
    "ahorro<-read.csv(file='evolucion_de_la_tasa_de_ahorro.csv',sep=';') "
   ]
  },
  {
   "cell_type": "code",
   "execution_count": 25,
   "metadata": {},
   "outputs": [],
   "source": [
    "ahorro<- rename(ahorro, tasa_ahorro='Tasa.de.ahorro')"
   ]
  },
  {
   "cell_type": "code",
   "execution_count": 26,
   "metadata": {},
   "outputs": [
    {
     "data": {
      "text/html": [
       "<table>\n",
       "<caption>A data.frame: 15 × 3</caption>\n",
       "<thead>\n",
       "\t<tr><th scope=col>Año</th><th scope=col>Periodo</th><th scope=col>tasa_ahorro</th></tr>\n",
       "\t<tr><th scope=col>&lt;int&gt;</th><th scope=col>&lt;fct&gt;</th><th scope=col>&lt;dbl&gt;</th></tr>\n",
       "</thead>\n",
       "<tbody>\n",
       "\t<tr><td>2005</td><td>Trimestre 2</td><td>16.55</td></tr>\n",
       "\t<tr><td>2006</td><td>Trimestre 2</td><td>14.68</td></tr>\n",
       "\t<tr><td>2007</td><td>Trimestre 2</td><td>13.72</td></tr>\n",
       "\t<tr><td>2008</td><td>Trimestre 2</td><td>14.83</td></tr>\n",
       "\t<tr><td>2009</td><td>Trimestre 2</td><td>20.15</td></tr>\n",
       "\t<tr><td>2010</td><td>Trimestre 2</td><td>17.65</td></tr>\n",
       "\t<tr><td>2011</td><td>Trimestre 2</td><td>18.64</td></tr>\n",
       "\t<tr><td>2012</td><td>Trimestre 2</td><td>14.36</td></tr>\n",
       "\t<tr><td>2013</td><td>Trimestre 2</td><td>17.14</td></tr>\n",
       "\t<tr><td>2014</td><td>Trimestre 2</td><td>13.74</td></tr>\n",
       "\t<tr><td>2015</td><td>Trimestre 2</td><td>16.14</td></tr>\n",
       "\t<tr><td>2016</td><td>Trimestre 2</td><td>17.21</td></tr>\n",
       "\t<tr><td>2017</td><td>Trimestre 2</td><td>15.92</td></tr>\n",
       "\t<tr><td>2018</td><td>Trimestre 2</td><td>16.24</td></tr>\n",
       "\t<tr><td>2019</td><td>Trimestre 2</td><td>19.24</td></tr>\n",
       "</tbody>\n",
       "</table>\n"
      ],
      "text/latex": [
       "A data.frame: 15 × 3\n",
       "\\begin{tabular}{lll}\n",
       " Año & Periodo & tasa\\_ahorro\\\\\n",
       " <int> & <fct> & <dbl>\\\\\n",
       "\\hline\n",
       "\t 2005 & Trimestre 2 & 16.55\\\\\n",
       "\t 2006 & Trimestre 2 & 14.68\\\\\n",
       "\t 2007 & Trimestre 2 & 13.72\\\\\n",
       "\t 2008 & Trimestre 2 & 14.83\\\\\n",
       "\t 2009 & Trimestre 2 & 20.15\\\\\n",
       "\t 2010 & Trimestre 2 & 17.65\\\\\n",
       "\t 2011 & Trimestre 2 & 18.64\\\\\n",
       "\t 2012 & Trimestre 2 & 14.36\\\\\n",
       "\t 2013 & Trimestre 2 & 17.14\\\\\n",
       "\t 2014 & Trimestre 2 & 13.74\\\\\n",
       "\t 2015 & Trimestre 2 & 16.14\\\\\n",
       "\t 2016 & Trimestre 2 & 17.21\\\\\n",
       "\t 2017 & Trimestre 2 & 15.92\\\\\n",
       "\t 2018 & Trimestre 2 & 16.24\\\\\n",
       "\t 2019 & Trimestre 2 & 19.24\\\\\n",
       "\\end{tabular}\n"
      ],
      "text/markdown": [
       "\n",
       "A data.frame: 15 × 3\n",
       "\n",
       "| Año &lt;int&gt; | Periodo &lt;fct&gt; | tasa_ahorro &lt;dbl&gt; |\n",
       "|---|---|---|\n",
       "| 2005 | Trimestre 2 | 16.55 |\n",
       "| 2006 | Trimestre 2 | 14.68 |\n",
       "| 2007 | Trimestre 2 | 13.72 |\n",
       "| 2008 | Trimestre 2 | 14.83 |\n",
       "| 2009 | Trimestre 2 | 20.15 |\n",
       "| 2010 | Trimestre 2 | 17.65 |\n",
       "| 2011 | Trimestre 2 | 18.64 |\n",
       "| 2012 | Trimestre 2 | 14.36 |\n",
       "| 2013 | Trimestre 2 | 17.14 |\n",
       "| 2014 | Trimestre 2 | 13.74 |\n",
       "| 2015 | Trimestre 2 | 16.14 |\n",
       "| 2016 | Trimestre 2 | 17.21 |\n",
       "| 2017 | Trimestre 2 | 15.92 |\n",
       "| 2018 | Trimestre 2 | 16.24 |\n",
       "| 2019 | Trimestre 2 | 19.24 |\n",
       "\n"
      ],
      "text/plain": [
       "   Año  Periodo     tasa_ahorro\n",
       "1  2005 Trimestre 2 16.55      \n",
       "2  2006 Trimestre 2 14.68      \n",
       "3  2007 Trimestre 2 13.72      \n",
       "4  2008 Trimestre 2 14.83      \n",
       "5  2009 Trimestre 2 20.15      \n",
       "6  2010 Trimestre 2 17.65      \n",
       "7  2011 Trimestre 2 18.64      \n",
       "8  2012 Trimestre 2 14.36      \n",
       "9  2013 Trimestre 2 17.14      \n",
       "10 2014 Trimestre 2 13.74      \n",
       "11 2015 Trimestre 2 16.14      \n",
       "12 2016 Trimestre 2 17.21      \n",
       "13 2017 Trimestre 2 15.92      \n",
       "14 2018 Trimestre 2 16.24      \n",
       "15 2019 Trimestre 2 19.24      "
      ]
     },
     "metadata": {},
     "output_type": "display_data"
    }
   ],
   "source": [
    "ahorro"
   ]
  },
  {
   "cell_type": "code",
   "execution_count": 27,
   "metadata": {},
   "outputs": [
    {
     "data": {
      "image/png": "[encoded data removed]",
      "text/plain": [
       "plot without title"
      ]
     },
     "metadata": {},
     "output_type": "display_data"
    }
   ],
   "source": [
    "\n",
    "p3<- ggplot(data=ahorro, aes(x=Año , y=tasa_ahorro )) + geom_line(color=\"pink\",size=.7)+geom_point(color=\"blue\",size=.1)\n",
    "p3<-p3 + theme_classic() + labs(x = NULL, y=\"En %\",title=\"Tasa de ahorro de los españoles\") \n",
    "p3 <- p3  + coord_cartesian(ylim=c(10,25),xlim=c(2004,2020)) \n",
    "\n",
    "p3"
   ]
  },
  {
   "cell_type": "markdown",
   "metadata": {},
   "source": [
    "## La tasa de ahorro de los hogares e instituciones sin fines de lucro se situó en el 4,9% de su renta disponible en 2018, seis decimas menos que el año anterior y la mas baja desde el inicio de la serie ## "
   ]
  },
  {
   "cell_type": "markdown",
   "metadata": {},
   "source": [
    "renta<-read.csv(file='evoluciona_la_renta_disponible.csv',sep=';') "
   ]
  },
  {
   "cell_type": "code",
   "execution_count": 29,
   "metadata": {},
   "outputs": [
    {
     "data": {
      "text/html": [
       "<table>\n",
       "<caption>A data.frame: 21 × 3</caption>\n",
       "<thead>\n",
       "\t<tr><th scope=col>Año</th><th scope=col>Periodo</th><th scope=col>Renta.disponible.bruta.de.los.hogares</th></tr>\n",
       "\t<tr><th scope=col>&lt;int&gt;</th><th scope=col>&lt;fct&gt;</th><th scope=col>&lt;dbl&gt;</th></tr>\n",
       "</thead>\n",
       "<tbody>\n",
       "\t<tr><td>1999</td><td>Trimestre 2</td><td> 98.766</td></tr>\n",
       "\t<tr><td>2000</td><td>Trimestre 2</td><td>108.417</td></tr>\n",
       "\t<tr><td>2001</td><td>Trimestre 2</td><td>120.077</td></tr>\n",
       "\t<tr><td>2002</td><td>Trimestre 2</td><td>130.048</td></tr>\n",
       "\t<tr><td>2003</td><td>Trimestre 2</td><td>138.906</td></tr>\n",
       "\t<tr><td>2004</td><td>Trimestre 2</td><td>146.865</td></tr>\n",
       "\t<tr><td>2005</td><td>Trimestre 2</td><td>159.303</td></tr>\n",
       "\t<tr><td>2006</td><td>Trimestre 2</td><td>168.572</td></tr>\n",
       "\t<tr><td>2007</td><td>Trimestre 2</td><td>177.162</td></tr>\n",
       "\t<tr><td>2008</td><td>Trimestre 2</td><td>187.118</td></tr>\n",
       "\t<tr><td>2009</td><td>Trimestre 2</td><td>186.909</td></tr>\n",
       "\t<tr><td>2010</td><td>Trimestre 2</td><td>187.501</td></tr>\n",
       "\t<tr><td>2011</td><td>Trimestre 2</td><td>190.365</td></tr>\n",
       "\t<tr><td>2012</td><td>Trimestre 2</td><td>177.906</td></tr>\n",
       "\t<tr><td>2013</td><td>Trimestre 2</td><td>179.250</td></tr>\n",
       "\t<tr><td>2014</td><td>Trimestre 2</td><td>176.208</td></tr>\n",
       "\t<tr><td>2015</td><td>Trimestre 2</td><td>185.786</td></tr>\n",
       "\t<tr><td>2016</td><td>Trimestre 2</td><td>193.128</td></tr>\n",
       "\t<tr><td>2017</td><td>Trimestre 2</td><td>199.266</td></tr>\n",
       "\t<tr><td>2018</td><td>Trimestre 2</td><td>206.316</td></tr>\n",
       "\t<tr><td>2019</td><td>Trimestre 2</td><td>218.205</td></tr>\n",
       "</tbody>\n",
       "</table>\n"
      ],
      "text/latex": [
       "A data.frame: 21 × 3\n",
       "\\begin{tabular}{lll}\n",
       " Año & Periodo & Renta.disponible.bruta.de.los.hogares\\\\\n",
       " <int> & <fct> & <dbl>\\\\\n",
       "\\hline\n",
       "\t 1999 & Trimestre 2 &  98.766\\\\\n",
       "\t 2000 & Trimestre 2 & 108.417\\\\\n",
       "\t 2001 & Trimestre 2 & 120.077\\\\\n",
       "\t 2002 & Trimestre 2 & 130.048\\\\\n",
       "\t 2003 & Trimestre 2 & 138.906\\\\\n",
       "\t 2004 & Trimestre 2 & 146.865\\\\\n",
       "\t 2005 & Trimestre 2 & 159.303\\\\\n",
       "\t 2006 & Trimestre 2 & 168.572\\\\\n",
       "\t 2007 & Trimestre 2 & 177.162\\\\\n",
       "\t 2008 & Trimestre 2 & 187.118\\\\\n",
       "\t 2009 & Trimestre 2 & 186.909\\\\\n",
       "\t 2010 & Trimestre 2 & 187.501\\\\\n",
       "\t 2011 & Trimestre 2 & 190.365\\\\\n",
       "\t 2012 & Trimestre 2 & 177.906\\\\\n",
       "\t 2013 & Trimestre 2 & 179.250\\\\\n",
       "\t 2014 & Trimestre 2 & 176.208\\\\\n",
       "\t 2015 & Trimestre 2 & 185.786\\\\\n",
       "\t 2016 & Trimestre 2 & 193.128\\\\\n",
       "\t 2017 & Trimestre 2 & 199.266\\\\\n",
       "\t 2018 & Trimestre 2 & 206.316\\\\\n",
       "\t 2019 & Trimestre 2 & 218.205\\\\\n",
       "\\end{tabular}\n"
      ],
      "text/markdown": [
       "\n",
       "A data.frame: 21 × 3\n",
       "\n",
       "| Año &lt;int&gt; | Periodo &lt;fct&gt; | Renta.disponible.bruta.de.los.hogares &lt;dbl&gt; |\n",
       "|---|---|---|\n",
       "| 1999 | Trimestre 2 |  98.766 |\n",
       "| 2000 | Trimestre 2 | 108.417 |\n",
       "| 2001 | Trimestre 2 | 120.077 |\n",
       "| 2002 | Trimestre 2 | 130.048 |\n",
       "| 2003 | Trimestre 2 | 138.906 |\n",
       "| 2004 | Trimestre 2 | 146.865 |\n",
       "| 2005 | Trimestre 2 | 159.303 |\n",
       "| 2006 | Trimestre 2 | 168.572 |\n",
       "| 2007 | Trimestre 2 | 177.162 |\n",
       "| 2008 | Trimestre 2 | 187.118 |\n",
       "| 2009 | Trimestre 2 | 186.909 |\n",
       "| 2010 | Trimestre 2 | 187.501 |\n",
       "| 2011 | Trimestre 2 | 190.365 |\n",
       "| 2012 | Trimestre 2 | 177.906 |\n",
       "| 2013 | Trimestre 2 | 179.250 |\n",
       "| 2014 | Trimestre 2 | 176.208 |\n",
       "| 2015 | Trimestre 2 | 185.786 |\n",
       "| 2016 | Trimestre 2 | 193.128 |\n",
       "| 2017 | Trimestre 2 | 199.266 |\n",
       "| 2018 | Trimestre 2 | 206.316 |\n",
       "| 2019 | Trimestre 2 | 218.205 |\n",
       "\n"
      ],
      "text/plain": [
       "   Año  Periodo     Renta.disponible.bruta.de.los.hogares\n",
       "1  1999 Trimestre 2  98.766                              \n",
       "2  2000 Trimestre 2 108.417                              \n",
       "3  2001 Trimestre 2 120.077                              \n",
       "4  2002 Trimestre 2 130.048                              \n",
       "5  2003 Trimestre 2 138.906                              \n",
       "6  2004 Trimestre 2 146.865                              \n",
       "7  2005 Trimestre 2 159.303                              \n",
       "8  2006 Trimestre 2 168.572                              \n",
       "9  2007 Trimestre 2 177.162                              \n",
       "10 2008 Trimestre 2 187.118                              \n",
       "11 2009 Trimestre 2 186.909                              \n",
       "12 2010 Trimestre 2 187.501                              \n",
       "13 2011 Trimestre 2 190.365                              \n",
       "14 2012 Trimestre 2 177.906                              \n",
       "15 2013 Trimestre 2 179.250                              \n",
       "16 2014 Trimestre 2 176.208                              \n",
       "17 2015 Trimestre 2 185.786                              \n",
       "18 2016 Trimestre 2 193.128                              \n",
       "19 2017 Trimestre 2 199.266                              \n",
       "20 2018 Trimestre 2 206.316                              \n",
       "21 2019 Trimestre 2 218.205                              "
      ]
     },
     "metadata": {},
     "output_type": "display_data"
    }
   ],
   "source": [
    "renta"
   ]
  },
  {
   "cell_type": "code",
   "execution_count": 30,
   "metadata": {},
   "outputs": [],
   "source": [
    "renta<- rename(renta, renta_disponible='Renta.disponible.bruta.de.los.hogares')"
   ]
  },
  {
   "cell_type": "code",
   "execution_count": 31,
   "metadata": {},
   "outputs": [
    {
     "data": {
      "text/html": [
       "<table>\n",
       "<caption>A data.frame: 21 × 3</caption>\n",
       "<thead>\n",
       "\t<tr><th scope=col>Año</th><th scope=col>Periodo</th><th scope=col>renta_disponible</th></tr>\n",
       "\t<tr><th scope=col>&lt;int&gt;</th><th scope=col>&lt;fct&gt;</th><th scope=col>&lt;dbl&gt;</th></tr>\n",
       "</thead>\n",
       "<tbody>\n",
       "\t<tr><td>1999</td><td>Trimestre 2</td><td> 98.766</td></tr>\n",
       "\t<tr><td>2000</td><td>Trimestre 2</td><td>108.417</td></tr>\n",
       "\t<tr><td>2001</td><td>Trimestre 2</td><td>120.077</td></tr>\n",
       "\t<tr><td>2002</td><td>Trimestre 2</td><td>130.048</td></tr>\n",
       "\t<tr><td>2003</td><td>Trimestre 2</td><td>138.906</td></tr>\n",
       "\t<tr><td>2004</td><td>Trimestre 2</td><td>146.865</td></tr>\n",
       "\t<tr><td>2005</td><td>Trimestre 2</td><td>159.303</td></tr>\n",
       "\t<tr><td>2006</td><td>Trimestre 2</td><td>168.572</td></tr>\n",
       "\t<tr><td>2007</td><td>Trimestre 2</td><td>177.162</td></tr>\n",
       "\t<tr><td>2008</td><td>Trimestre 2</td><td>187.118</td></tr>\n",
       "\t<tr><td>2009</td><td>Trimestre 2</td><td>186.909</td></tr>\n",
       "\t<tr><td>2010</td><td>Trimestre 2</td><td>187.501</td></tr>\n",
       "\t<tr><td>2011</td><td>Trimestre 2</td><td>190.365</td></tr>\n",
       "\t<tr><td>2012</td><td>Trimestre 2</td><td>177.906</td></tr>\n",
       "\t<tr><td>2013</td><td>Trimestre 2</td><td>179.250</td></tr>\n",
       "\t<tr><td>2014</td><td>Trimestre 2</td><td>176.208</td></tr>\n",
       "\t<tr><td>2015</td><td>Trimestre 2</td><td>185.786</td></tr>\n",
       "\t<tr><td>2016</td><td>Trimestre 2</td><td>193.128</td></tr>\n",
       "\t<tr><td>2017</td><td>Trimestre 2</td><td>199.266</td></tr>\n",
       "\t<tr><td>2018</td><td>Trimestre 2</td><td>206.316</td></tr>\n",
       "\t<tr><td>2019</td><td>Trimestre 2</td><td>218.205</td></tr>\n",
       "</tbody>\n",
       "</table>\n"
      ],
      "text/latex": [
       "A data.frame: 21 × 3\n",
       "\\begin{tabular}{lll}\n",
       " Año & Periodo & renta\\_disponible\\\\\n",
       " <int> & <fct> & <dbl>\\\\\n",
       "\\hline\n",
       "\t 1999 & Trimestre 2 &  98.766\\\\\n",
       "\t 2000 & Trimestre 2 & 108.417\\\\\n",
       "\t 2001 & Trimestre 2 & 120.077\\\\\n",
       "\t 2002 & Trimestre 2 & 130.048\\\\\n",
       "\t 2003 & Trimestre 2 & 138.906\\\\\n",
       "\t 2004 & Trimestre 2 & 146.865\\\\\n",
       "\t 2005 & Trimestre 2 & 159.303\\\\\n",
       "\t 2006 & Trimestre 2 & 168.572\\\\\n",
       "\t 2007 & Trimestre 2 & 177.162\\\\\n",
       "\t 2008 & Trimestre 2 & 187.118\\\\\n",
       "\t 2009 & Trimestre 2 & 186.909\\\\\n",
       "\t 2010 & Trimestre 2 & 187.501\\\\\n",
       "\t 2011 & Trimestre 2 & 190.365\\\\\n",
       "\t 2012 & Trimestre 2 & 177.906\\\\\n",
       "\t 2013 & Trimestre 2 & 179.250\\\\\n",
       "\t 2014 & Trimestre 2 & 176.208\\\\\n",
       "\t 2015 & Trimestre 2 & 185.786\\\\\n",
       "\t 2016 & Trimestre 2 & 193.128\\\\\n",
       "\t 2017 & Trimestre 2 & 199.266\\\\\n",
       "\t 2018 & Trimestre 2 & 206.316\\\\\n",
       "\t 2019 & Trimestre 2 & 218.205\\\\\n",
       "\\end{tabular}\n"
      ],
      "text/markdown": [
       "\n",
       "A data.frame: 21 × 3\n",
       "\n",
       "| Año &lt;int&gt; | Periodo &lt;fct&gt; | renta_disponible &lt;dbl&gt; |\n",
       "|---|---|---|\n",
       "| 1999 | Trimestre 2 |  98.766 |\n",
       "| 2000 | Trimestre 2 | 108.417 |\n",
       "| 2001 | Trimestre 2 | 120.077 |\n",
       "| 2002 | Trimestre 2 | 130.048 |\n",
       "| 2003 | Trimestre 2 | 138.906 |\n",
       "| 2004 | Trimestre 2 | 146.865 |\n",
       "| 2005 | Trimestre 2 | 159.303 |\n",
       "| 2006 | Trimestre 2 | 168.572 |\n",
       "| 2007 | Trimestre 2 | 177.162 |\n",
       "| 2008 | Trimestre 2 | 187.118 |\n",
       "| 2009 | Trimestre 2 | 186.909 |\n",
       "| 2010 | Trimestre 2 | 187.501 |\n",
       "| 2011 | Trimestre 2 | 190.365 |\n",
       "| 2012 | Trimestre 2 | 177.906 |\n",
       "| 2013 | Trimestre 2 | 179.250 |\n",
       "| 2014 | Trimestre 2 | 176.208 |\n",
       "| 2015 | Trimestre 2 | 185.786 |\n",
       "| 2016 | Trimestre 2 | 193.128 |\n",
       "| 2017 | Trimestre 2 | 199.266 |\n",
       "| 2018 | Trimestre 2 | 206.316 |\n",
       "| 2019 | Trimestre 2 | 218.205 |\n",
       "\n"
      ],
      "text/plain": [
       "   Año  Periodo     renta_disponible\n",
       "1  1999 Trimestre 2  98.766         \n",
       "2  2000 Trimestre 2 108.417         \n",
       "3  2001 Trimestre 2 120.077         \n",
       "4  2002 Trimestre 2 130.048         \n",
       "5  2003 Trimestre 2 138.906         \n",
       "6  2004 Trimestre 2 146.865         \n",
       "7  2005 Trimestre 2 159.303         \n",
       "8  2006 Trimestre 2 168.572         \n",
       "9  2007 Trimestre 2 177.162         \n",
       "10 2008 Trimestre 2 187.118         \n",
       "11 2009 Trimestre 2 186.909         \n",
       "12 2010 Trimestre 2 187.501         \n",
       "13 2011 Trimestre 2 190.365         \n",
       "14 2012 Trimestre 2 177.906         \n",
       "15 2013 Trimestre 2 179.250         \n",
       "16 2014 Trimestre 2 176.208         \n",
       "17 2015 Trimestre 2 185.786         \n",
       "18 2016 Trimestre 2 193.128         \n",
       "19 2017 Trimestre 2 199.266         \n",
       "20 2018 Trimestre 2 206.316         \n",
       "21 2019 Trimestre 2 218.205         "
      ]
     },
     "metadata": {},
     "output_type": "display_data"
    }
   ],
   "source": [
    "renta"
   ]
  },
  {
   "cell_type": "code",
   "execution_count": 32,
   "metadata": {},
   "outputs": [
    {
     "data": {
      "image/png": "[encoded data removed]",
      "text/plain": [
       "plot without title"
      ]
     },
     "metadata": {},
     "output_type": "display_data"
    }
   ],
   "source": [
    "p4<- ggplot(data=consumo, aes(x=Año,y=gasto_consumo )) + geom_bar(stat=\"identity\",color=\"indianred4\", fill=\"indianred\",position=position_dodge(width=.85),width=.6 )\n",
    "p4<-p4 + theme_classic() + labs(x = NULL, y=\"miles de millones €\",title=\"Consumo en gasto final de los españoles\") \n",
    "p4 <- p4 + coord_cartesian(ylim=c(50.000,215.000)) \n",
    "p4<- p4 + theme(legend.position=\"bottom\",legend.title=element_blank())\n",
    "p4"
   ]
  },
  {
   "cell_type": "code",
   "execution_count": null,
   "metadata": {},
   "outputs": [],
   "source": [
    "El gasto en consumo final "
   ]
  }
 ],
 "metadata": {
  "kernelspec": {
   "display_name": "R (R-Project)",
   "language": "r",
   "name": "ir"
  },
  "language_info": {
   "codemirror_mode": "r",
   "file_extension": ".r",
   "mimetype": "text/x-r-source",
   "name": "R",
   "pygments_lexer": "r",
   "version": "3.6.1"
  }
 },
 "nbformat": 4,
 "nbformat_minor": 1
}
